{
  "cells": [
    {
      "cell_type": "markdown",
      "metadata": {
        "id": "GxSxNDFYuq6n",
        "pycharm": {}
      },
      "source": [
        "# Running Pyomo on Google Colab\n",
        "\n",
        "Keywords: installation"
      ]
    },
    {
      "cell_type": "markdown",
      "metadata": {
        "id": "pJHU-Rpkglqq",
        "pycharm": {}
      },
      "source": [
        "This note notebook shows how to install the basic pyomo package on Google Colab, and then demonstrates the subsequent installation and use of various solvers including\n",
        "\n",
        "* GLPK\n",
        "* COIN-OR CBC\n",
        "* COIN-OR Ipopt\n",
        "* COIN-OR Bonmin\n",
        "* COIN-OR Couenne\n",
        "* COIN-OR Gecode"
      ]
    },
    {
      "cell_type": "markdown",
      "metadata": {
        "id": "jJrxAaqcuzFw",
        "pycharm": {}
      },
      "source": [
        "## Basic installation of Pyomo\n",
        "\n",
        "We'll do a quiet installation of pyomo using `pip`.  This needs to be done once at the start of each Colab session."
      ]
    },
    {
      "cell_type": "code",
      "execution_count": 2,
      "metadata": {
        "colab": {
          "base_uri": "https://localhost:8080/"
        },
        "id": "yTGBrqQO3vT2",
        "outputId": "55d80ae5-a216-4cb1-c92d-cec4f4adb4f2",
        "pycharm": {}
      },
      "outputs": [
        {
          "output_type": "stream",
          "name": "stdout",
          "text": [
            "\u001b[2K     \u001b[90m━━━━━━━━━━━━━━━━━━━━━━━━━━━━━━━━━━━━━━━━\u001b[0m \u001b[32m12.7/12.7 MB\u001b[0m \u001b[31m38.8 MB/s\u001b[0m eta \u001b[36m0:00:00\u001b[0m\n",
            "\u001b[2K     \u001b[90m━━━━━━━━━━━━━━━━━━━━━━━━━━━━━━━━━━━━━━━━\u001b[0m \u001b[32m49.6/49.6 kB\u001b[0m \u001b[31m4.2 MB/s\u001b[0m eta \u001b[36m0:00:00\u001b[0m\n",
            "\u001b[?25h"
          ]
        }
      ],
      "source": [
        "!pip install -q pyomo"
      ]
    },
    {
      "cell_type": "markdown",
      "metadata": {
        "id": "pa5VjPfw7Xfm",
        "pycharm": {}
      },
      "source": [
        "The installation of pyomo can be verified by entering a simple model. We'll use the model again in subsequent cells to demonstrate the installation and execution of various solvers."
      ]
    },
    {
      "cell_type": "code",
      "source": [
        "#fantasy\n",
        "import pyomo.environ as pyo\n",
        "import numpy as np\n",
        "\n",
        "\n",
        "model = pyo.ConcreteModel()\n",
        "model.i = np.arange(4) #number of positions\n",
        "model.j = np.arange(10) #number of  players\n",
        "model.point = np.random.randint(100,size = (len(model.i),len(model.j)))\n",
        "model.price = np.random.randint(15,size = (len(model.i),len(model.j)))\n",
        "model.max_positions = np.array([1,5,5,3])\n",
        "model.min_positions = np.array([1,3,3,1])\n",
        "model.x = pyo.Var(model.i,model.j,domain = pyo.Binary)\n",
        "\n",
        "def Obj(model): #objective function\n",
        "    return sum(model.point[i,j] * model.x[i,j]  for i in range(len(model.i))    for j in range(len(model.j)))\n",
        "\n",
        "def Co1 (model): #sum of xi s have to be exactly 11\n",
        "    return sum(model.x[i,j]   for i in range(len(model.i))  for j in range(len(model.j))) == 11\n",
        "\n",
        "def Co2(model): #budget constraint\n",
        "    return sum(model.price[i,j]*model.x[i,j]  for i in range(len(model.i))  for j in range(len(model.j)))<=82\n",
        "\n",
        "def Co3(model,i): #maximum number of picked players\n",
        "    return sum(model.x[i,j] for j in range(len(model.j))) <= model.max_positions[i]\n",
        "def Co4(model,i): #minimum number of picked players\n",
        "    return sum(model.x[i,j] for j in range(len(model.j))) >= model.min_positions[i]\n",
        "\n",
        "\n",
        "model.obj = pyo.Objective(rule = Obj,sense=pyo.maximize)\n",
        "model.Co1 = pyo.Constraint(rule = Co1)\n",
        "model.Co2 = pyo.Constraint(rule = Co2)\n",
        "model.Co3 = pyo.Constraint(range(len(model.i)),rule = Co3)\n",
        "model.Co4 = pyo.Constraint(range(len(model.i)),rule = Co4)\n",
        "# solver = pyo.SolverFactory('glpk',executable = 'C:\\glpk-4.65\\w64\\glpsol')\n",
        "# results = solver.solve(model)\n",
        "\n",
        "# model.display()\n",
        "model.point,model.price\n",
        "# for i in range(len(model.i)):\n",
        "#     for j in range(len(model.j)):\n",
        "#         print((i,j),model.x[i,j].value)"
      ],
      "metadata": {
        "id": "90ovKdTz3c1j",
        "outputId": "1a9d7735-d6eb-419e-ba28-35e98b0b59a3",
        "colab": {
          "base_uri": "https://localhost:8080/"
        }
      },
      "execution_count": 3,
      "outputs": [
        {
          "output_type": "execute_result",
          "data": {
            "text/plain": [
              "(array([[65, 10, 61, 38, 80,  9,  1, 99, 89, 65],\n",
              "        [25, 74, 40,  1, 13, 60, 11, 39, 99,  4],\n",
              "        [68, 91, 91, 69, 86, 52, 59, 39, 75, 63],\n",
              "        [39, 47, 85, 70, 63, 35, 71, 39, 59, 64]]),\n",
              " array([[ 9,  2, 12,  7,  3, 13, 10,  8,  4, 14],\n",
              "        [ 4,  2, 11,  9,  4,  9,  0,  5,  8,  8],\n",
              "        [ 1,  3,  6, 14, 13,  0,  6,  2,  1, 10],\n",
              "        [10,  9,  1,  1,  9,  5, 12, 14,  9,  8]]))"
            ]
          },
          "metadata": {},
          "execution_count": 3
        }
      ]
    },
    {
      "cell_type": "markdown",
      "metadata": {
        "id": "dGbhGS4u7vyV",
        "pycharm": {}
      },
      "source": [
        "## GLPK installation\n",
        "\n",
        "Keywords: GLPK\n",
        "\n",
        "[GLPK](https://en.wikibooks.org/wiki/GLPK) is a the open-source **G**NU **L**inear **P**rogramming **K**it available for use under the GNU General Public License 3. GLPK is a single-threaded simplex solver generally suited to small to medium scale linear-integer programming problems. It is written in C with minimal dependencies and is therefore highly portable among computers and operating systems. GLPK is often 'good enough' for many examples. For larger problems users should consider higher-performance solvers, such as COIN-OR CBC, that can take advantage of multi-threaded processors."
      ]
    },
    {
      "cell_type": "code",
      "execution_count": 4,
      "metadata": {
        "colab": {
          "base_uri": "https://localhost:8080/"
        },
        "id": "aXNQCk6ywINU",
        "pycharm": {},
        "outputId": "2c6d7ea7-cebb-4365-efc8-b37d97a8eeff"
      },
      "outputs": [
        {
          "output_type": "stream",
          "name": "stdout",
          "text": [
            "Selecting previously unselected package libsuitesparseconfig5:amd64.\n",
            "(Reading database ... 120874 files and directories currently installed.)\n",
            "Preparing to unpack .../libsuitesparseconfig5_1%3a5.10.1+dfsg-4build1_amd64.deb ...\n",
            "Unpacking libsuitesparseconfig5:amd64 (1:5.10.1+dfsg-4build1) ...\n",
            "Selecting previously unselected package libamd2:amd64.\n",
            "Preparing to unpack .../libamd2_1%3a5.10.1+dfsg-4build1_amd64.deb ...\n",
            "Unpacking libamd2:amd64 (1:5.10.1+dfsg-4build1) ...\n",
            "Selecting previously unselected package libcolamd2:amd64.\n",
            "Preparing to unpack .../libcolamd2_1%3a5.10.1+dfsg-4build1_amd64.deb ...\n",
            "Unpacking libcolamd2:amd64 (1:5.10.1+dfsg-4build1) ...\n",
            "Selecting previously unselected package libglpk40:amd64.\n",
            "Preparing to unpack .../libglpk40_5.0-1_amd64.deb ...\n",
            "Unpacking libglpk40:amd64 (5.0-1) ...\n",
            "Selecting previously unselected package glpk-utils.\n",
            "Preparing to unpack .../glpk-utils_5.0-1_amd64.deb ...\n",
            "Unpacking glpk-utils (5.0-1) ...\n",
            "Setting up libsuitesparseconfig5:amd64 (1:5.10.1+dfsg-4build1) ...\n",
            "Setting up libamd2:amd64 (1:5.10.1+dfsg-4build1) ...\n",
            "Setting up libcolamd2:amd64 (1:5.10.1+dfsg-4build1) ...\n",
            "Setting up libglpk40:amd64 (5.0-1) ...\n",
            "Setting up glpk-utils (5.0-1) ...\n",
            "Processing triggers for man-db (2.10.2-1) ...\n",
            "Processing triggers for libc-bin (2.35-0ubuntu3.1) ...\n",
            "/sbin/ldconfig.real: /usr/local/lib/libtbb.so.12 is not a symbolic link\n",
            "\n",
            "/sbin/ldconfig.real: /usr/local/lib/libtbbbind.so.3 is not a symbolic link\n",
            "\n",
            "/sbin/ldconfig.real: /usr/local/lib/libtbbbind_2_5.so.3 is not a symbolic link\n",
            "\n",
            "/sbin/ldconfig.real: /usr/local/lib/libtbbbind_2_0.so.3 is not a symbolic link\n",
            "\n",
            "/sbin/ldconfig.real: /usr/local/lib/libtbbmalloc_proxy.so.2 is not a symbolic link\n",
            "\n",
            "/sbin/ldconfig.real: /usr/local/lib/libtbbmalloc.so.2 is not a symbolic link\n",
            "\n"
          ]
        }
      ],
      "source": [
        "!apt-get install -y -qq glpk-utils"
      ]
    },
    {
      "cell_type": "code",
      "execution_count": 7,
      "metadata": {
        "colab": {
          "base_uri": "https://localhost:8080/"
        },
        "id": "HsTASLpi8sdg",
        "outputId": "28e7143d-a392-4859-ac54-dc42bd5ca5ae",
        "pycharm": {}
      },
      "outputs": [
        {
          "output_type": "stream",
          "name": "stdout",
          "text": [
            "# ==========================================================\n",
            "# = Solver Results                                         =\n",
            "# ==========================================================\n",
            "# ----------------------------------------------------------\n",
            "#   Problem Information\n",
            "# ----------------------------------------------------------\n",
            "Problem: \n",
            "- Name: unknown\n",
            "  Lower bound: 901.0\n",
            "  Upper bound: 901.0\n",
            "  Number of objectives: 1\n",
            "  Number of constraints: 10\n",
            "  Number of variables: 40\n",
            "  Number of nonzeros: 158\n",
            "  Sense: maximize\n",
            "# ----------------------------------------------------------\n",
            "#   Solver Information\n",
            "# ----------------------------------------------------------\n",
            "Solver: \n",
            "- Status: ok\n",
            "  Termination condition: optimal\n",
            "  Statistics: \n",
            "    Branch and bound: \n",
            "      Number of bounded subproblems: 1\n",
            "      Number of created subproblems: 1\n",
            "  Error rc: 0\n",
            "  Time: 0.005349159240722656\n",
            "# ----------------------------------------------------------\n",
            "#   Solution Information\n",
            "# ----------------------------------------------------------\n",
            "Solution: \n",
            "- number of solutions: 0\n",
            "  number of solutions displayed: 0\n"
          ]
        },
        {
          "output_type": "execute_result",
          "data": {
            "text/plain": [
              "<bound method Block.display of <pyomo.core.base.PyomoModel.ConcreteModel object at 0x78ec4198e110>>"
            ]
          },
          "metadata": {},
          "execution_count": 7
        }
      ],
      "source": [
        "pyo.SolverFactory('glpk', executable='/usr/bin/glpsol').solve(model).write()\n",
        "\n",
        "# display solution\n",
        "model.display\n",
        "# print('\\nProfit = ', model.profit())\n",
        "\n",
        "# print('\\nDecision Variables')\n",
        "# print('x = ', model.x())\n",
        "# print('y = ', model.y())\n",
        "\n",
        "# print('\\nConstraints')\n",
        "# print('Demand  = ', model.demand())\n",
        "# print('Labor A = ', model.laborA())\n",
        "# print('Labor B = ', model.laborB())"
      ]
    }
  ],
  "metadata": {
    "colab": {
      "name": "01.01-Getting-Started-with-Pyomo-on-Google-Colab.ipynb",
      "provenance": [],
      "toc_visible": true
    },
    "kernelspec": {
      "display_name": "Python 3 (ipykernel)",
      "language": "python",
      "name": "python3"
    },
    "language_info": {
      "codemirror_mode": {
        "name": "ipython",
        "version": 3
      },
      "file_extension": ".py",
      "mimetype": "text/x-python",
      "name": "python",
      "nbconvert_exporter": "python",
      "pygments_lexer": "ipython3",
      "version": "3.9.7"
    }
  },
  "nbformat": 4,
  "nbformat_minor": 0
}